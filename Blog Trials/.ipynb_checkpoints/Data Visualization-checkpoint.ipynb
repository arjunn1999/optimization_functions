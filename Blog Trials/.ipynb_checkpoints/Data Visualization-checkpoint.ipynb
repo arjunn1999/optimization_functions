{
 "cells": [
  {
   "cell_type": "code",
   "execution_count": 1,
   "id": "96fd62d8",
   "metadata": {},
   "outputs": [],
   "source": [
    "from numpy import arange\n",
    "from numpy import meshgrid\n",
    "from matplotlib import pyplot\n",
    "from mpl_toolkits.mplot3d import Axes3D"
   ]
  },
  {
   "cell_type": "code",
   "execution_count": 2,
   "id": "7bc1ec20",
   "metadata": {},
   "outputs": [],
   "source": [
    "objective = lambda x,y :(x**2.0)+(y**2.0)"
   ]
  },
  {
   "cell_type": "code",
   "execution_count": 9,
   "id": "36af5522",
   "metadata": {},
   "outputs": [
    {
     "data": {
      "text/plain": [
       "5.0"
      ]
     },
     "execution_count": 9,
     "metadata": {},
     "output_type": "execute_result"
    }
   ],
   "source": [
    "r_min,r_max  = -5.0,5.0\n",
    "x_axis = arange(r_min,r_max,0.1)\n",
    "y_axis = arange(r_min,r_max,0.1)"
   ]
  }
 ],
 "metadata": {
  "kernelspec": {
   "display_name": "Python 3 (ipykernel)",
   "language": "python",
   "name": "python3"
  },
  "language_info": {
   "codemirror_mode": {
    "name": "ipython",
    "version": 3
   },
   "file_extension": ".py",
   "mimetype": "text/x-python",
   "name": "python",
   "nbconvert_exporter": "python",
   "pygments_lexer": "ipython3",
   "version": "3.9.7"
  }
 },
 "nbformat": 4,
 "nbformat_minor": 5
}
